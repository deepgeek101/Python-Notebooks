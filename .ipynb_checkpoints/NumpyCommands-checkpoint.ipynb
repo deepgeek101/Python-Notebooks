{
 "cells": [
  {
   "cell_type": "code",
   "execution_count": 1,
   "id": "72e8144b-371f-4cfd-8ea8-70e51f71fcd1",
   "metadata": {},
   "outputs": [],
   "source": [
    "import numpy as np"
   ]
  },
  {
   "cell_type": "code",
   "execution_count": 3,
   "id": "41fc803d-99e2-4583-8836-44478df721b6",
   "metadata": {},
   "outputs": [
    {
     "name": "stdout",
     "output_type": "stream",
     "text": [
      "[1 2 3 4 5]\n",
      "<class 'numpy.ndarray'>\n"
     ]
    }
   ],
   "source": [
    "ar1=np.array([1,2,3,4,5])\n",
    "print(ar1)\n",
    "print(type(ar1))"
   ]
  },
  {
   "cell_type": "code",
   "execution_count": 7,
   "id": "83e2fa39-8faa-4bae-a234-305cfacbead1",
   "metadata": {},
   "outputs": [
    {
     "name": "stdout",
     "output_type": "stream",
     "text": [
      "[[ 5 10 15]\n",
      " [ 2  4 19]\n",
      " [12  1  3]]\n"
     ]
    }
   ],
   "source": [
    "li1=[5,10,15]\n",
    "li2=[2,4,19]\n",
    "li3=[12,1,3]\n",
    "ark=np.array([li1,li2,li3])\n",
    "print(ark)"
   ]
  },
  {
   "cell_type": "code",
   "execution_count": 9,
   "id": "8dff2c8a-7225-4efa-a0e9-7145f63c106e",
   "metadata": {},
   "outputs": [
    {
     "name": "stdout",
     "output_type": "stream",
     "text": [
      "5\n"
     ]
    }
   ],
   "source": [
    "print(ark[0,0])"
   ]
  },
  {
   "cell_type": "code",
   "execution_count": 11,
   "id": "f8880e48-1dcf-4852-b029-c2ed7df9f376",
   "metadata": {},
   "outputs": [
    {
     "name": "stdout",
     "output_type": "stream",
     "text": [
      "[ 2  5  8 11 14 17]\n"
     ]
    }
   ],
   "source": [
    "new_way=np.arange(2,19,3)\n",
    "print(new_way)"
   ]
  },
  {
   "cell_type": "code",
   "execution_count": 13,
   "id": "e83c70ce-0a73-449a-819c-d768e7f822ec",
   "metadata": {},
   "outputs": [
    {
     "name": "stdout",
     "output_type": "stream",
     "text": [
      "[0.   0.25 0.5  0.75 1.  ]\n"
     ]
    }
   ],
   "source": [
    "another_alternative=np.linspace(0,1,5)\n",
    "print(another_alternative)"
   ]
  },
  {
   "cell_type": "code",
   "execution_count": 15,
   "id": "7682dea8-b25b-4adf-b439-3aa985a05458",
   "metadata": {},
   "outputs": [
    {
     "name": "stdout",
     "output_type": "stream",
     "text": [
      "(6,)\n"
     ]
    }
   ],
   "source": [
    "print(new_way.shape)"
   ]
  },
  {
   "cell_type": "code",
   "execution_count": 17,
   "id": "866e8c2a-1f18-4d6b-8c60-bd81f10b2c10",
   "metadata": {},
   "outputs": [
    {
     "name": "stdout",
     "output_type": "stream",
     "text": [
      "[[ 5 10 15]\n",
      " [ 2  4 19]]\n"
     ]
    }
   ],
   "source": [
    "ark1=ark[0:2,]\n",
    "print(ark1)"
   ]
  },
  {
   "cell_type": "code",
   "execution_count": 19,
   "id": "7ce02316-6837-47ea-a72c-9688c87b803f",
   "metadata": {},
   "outputs": [
    {
     "name": "stdout",
     "output_type": "stream",
     "text": [
      "(2, 3)\n"
     ]
    }
   ],
   "source": [
    "print(ark1.shape)"
   ]
  },
  {
   "cell_type": "code",
   "execution_count": 25,
   "id": "767f9d3f-29c2-47c0-9f89-cda74ed4c81b",
   "metadata": {},
   "outputs": [
    {
     "name": "stdout",
     "output_type": "stream",
     "text": [
      "[[ 5 10]\n",
      " [15  2]\n",
      " [ 4 19]]\n",
      "\n",
      "\n",
      "[[ 5 10]\n",
      " [15  2]\n",
      " [ 4 19]]\n",
      "<class 'numpy.ndarray'>\n"
     ]
    }
   ],
   "source": [
    "xy=ark1.reshape(3,2)\n",
    "print(ark1.reshape(3,2))\n",
    "print()\n",
    "print()\n",
    "print(xy)\n",
    "print(type(xy))"
   ]
  },
  {
   "cell_type": "code",
   "execution_count": null,
   "id": "e7d5c1e7-e7a3-4d29-a2bc-a4df20e0f2b9",
   "metadata": {},
   "outputs": [],
   "source": []
  }
 ],
 "metadata": {
  "kernelspec": {
   "display_name": "Python [conda env:base] *",
   "language": "python",
   "name": "conda-base-py"
  },
  "language_info": {
   "codemirror_mode": {
    "name": "ipython",
    "version": 3
   },
   "file_extension": ".py",
   "mimetype": "text/x-python",
   "name": "python",
   "nbconvert_exporter": "python",
   "pygments_lexer": "ipython3",
   "version": "3.12.7"
  }
 },
 "nbformat": 4,
 "nbformat_minor": 5
}
